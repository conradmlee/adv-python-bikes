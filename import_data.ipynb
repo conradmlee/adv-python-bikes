{
 "cells": [
  {
   "cell_type": "markdown",
   "metadata": {},
   "source": [
    "# Advanced Python: Rewrite the Bike Sharing Analysis using Dask\n",
    "\n",
    "Author: Conrad Lee\n",
    "\n",
    "## Data Download\n",
    "\n",
    "This file automatically downloads and extracts the bike sharing dataset from Kaggle.\n",
    "\n",
    "Kaggle API: https://github.com/Kaggle/kaggle-api\n",
    "\n",
    "Bike Sharing Dataset: https://www.kaggle.com/marklvl/bike-sharing-dataset/home"
   ]
  },
  {
   "cell_type": "code",
   "execution_count": 1,
   "metadata": {},
   "outputs": [],
   "source": [
    "import sys"
   ]
  },
  {
   "cell_type": "code",
   "execution_count": 2,
   "metadata": {},
   "outputs": [
    {
     "name": "stdout",
     "output_type": "stream",
     "text": [
      "Requirement already satisfied: kaggle in c:\\users\\redwi\\anaconda3\\lib\\site-packages (1.5.3)\n",
      "Requirement already satisfied: six>=1.10 in c:\\users\\redwi\\anaconda3\\lib\\site-packages (from kaggle) (1.12.0)\n",
      "Requirement already satisfied: python-slugify in c:\\users\\redwi\\anaconda3\\lib\\site-packages (from kaggle) (3.0.2)\n",
      "Requirement already satisfied: python-dateutil in c:\\users\\redwi\\anaconda3\\lib\\site-packages (from kaggle) (2.7.5)\n",
      "Requirement already satisfied: urllib3<1.25,>=1.21.1 in c:\\users\\redwi\\anaconda3\\lib\\site-packages (from kaggle) (1.24.1)\n",
      "Requirement already satisfied: tqdm in c:\\users\\redwi\\anaconda3\\lib\\site-packages (from kaggle) (4.28.1)\n",
      "Requirement already satisfied: certifi in c:\\users\\redwi\\anaconda3\\lib\\site-packages (from kaggle) (2019.3.9)\n",
      "Requirement already satisfied: requests in c:\\users\\redwi\\anaconda3\\lib\\site-packages (from kaggle) (2.21.0)\n",
      "Requirement already satisfied: text-unidecode==1.2 in c:\\users\\redwi\\anaconda3\\lib\\site-packages (from python-slugify->kaggle) (1.2)\n",
      "Requirement already satisfied: idna<2.9,>=2.5 in c:\\users\\redwi\\anaconda3\\lib\\site-packages (from requests->kaggle) (2.8)\n",
      "Requirement already satisfied: chardet<3.1.0,>=3.0.2 in c:\\users\\redwi\\anaconda3\\lib\\site-packages (from requests->kaggle) (3.0.4)\n"
     ]
    }
   ],
   "source": [
    "!pip install kaggle"
   ]
  },
  {
   "cell_type": "code",
   "execution_count": 3,
   "metadata": {},
   "outputs": [
    {
     "name": "stdout",
     "output_type": "stream",
     "text": [
      "C:\\Users\\redwi\\My_Notebooks\\Adv_Python\\assignment_2\n"
     ]
    }
   ],
   "source": [
    "!pwd"
   ]
  },
  {
   "cell_type": "code",
   "execution_count": 4,
   "metadata": {},
   "outputs": [
    {
     "name": "stdout",
     "output_type": "stream",
     "text": [
      "name                       size  creationDate         \n",
      "------------------------  -----  -------------------  \n",
      "Bike-Sharing-Dataset.zip  273KB  2018-05-28 11:30:03  \n"
     ]
    }
   ],
   "source": [
    "!kaggle datasets files marklvl/bike-sharing-dataset"
   ]
  },
  {
   "cell_type": "code",
   "execution_count": 5,
   "metadata": {},
   "outputs": [
    {
     "name": "stdout",
     "output_type": "stream",
     "text": [
      "Downloading bike-sharing-dataset.zip to C:\\Users\\redwi\\My_Notebooks\\Adv_Python\\assignment_2\n",
      "\n"
     ]
    },
    {
     "name": "stderr",
     "output_type": "stream",
     "text": [
      "\n",
      "  0%|          | 0.00/273k [00:00<?, ?B/s]\n",
      "100%|##########| 273k/273k [00:00<00:00, 1.86MB/s]\n"
     ]
    }
   ],
   "source": [
    "# download the bikesharing dataset zip file\n",
    "!kaggle datasets download marklvl/bike-sharing-dataset --force"
   ]
  },
  {
   "cell_type": "code",
   "execution_count": 6,
   "metadata": {},
   "outputs": [],
   "source": [
    "# check whether a data folder already exists, and remove if it already exists\n",
    "!IF EXIST data (rm -rf data) ELSE (echo okay)"
   ]
  },
  {
   "cell_type": "code",
   "execution_count": 7,
   "metadata": {},
   "outputs": [
    {
     "name": "stdout",
     "output_type": "stream",
     "text": [
      "Unzipping in Windows...\n",
      "Completed.\n"
     ]
    }
   ],
   "source": [
    "# create a folder called data, and unzip the dataset file\n",
    "if (sys.platform == 'win32'):\n",
    "    !powershell Expand-Archive bike-sharing-dataset.zip\n",
    "    !powershell Expand-Archive -Path bike-sharing-dataset/Bike-Sharing-Dataset.zip -DestinationPath ./data -force\n",
    "    print(\"Unzipping in Windows...\")\n",
    "else:\n",
    "    !unzip bike-sharing-dataset.zip\n",
    "    !unzip bike-sharing-dataset/Bike-Sharing-Dataset.zip ./data\n",
    "    print(\"Unzipping in MacOS or Linux...\")\n",
    "!rm bike-sharing-dataset.zip\n",
    "!rm -rf bike-sharing-dataset\n",
    "print(\"Completed.\")"
   ]
  }
 ],
 "metadata": {
  "kernelspec": {
   "display_name": "Python 3",
   "language": "python",
   "name": "python3"
  },
  "language_info": {
   "codemirror_mode": {
    "name": "ipython",
    "version": 3
   },
   "file_extension": ".py",
   "mimetype": "text/x-python",
   "name": "python",
   "nbconvert_exporter": "python",
   "pygments_lexer": "ipython3",
   "version": "3.7.2"
  }
 },
 "nbformat": 4,
 "nbformat_minor": 2
}
